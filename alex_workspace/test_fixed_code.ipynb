def test_custom_tree():
    # Create a custom tree
    tree = Custom_Tree()

    # Add nodes to the tree
    node1 = tree.add_node(0, "Node 1")
    node2 = tree.add_node(node1.uuid, "Node 2")
    node3 = tree.add_node(node1.uuid, "Node 3")
    node4 = tree.add_node(node2.uuid, "Node 4")
    node5 = tree.add_node(node2.uuid, "Node 5")

    # Print the tree
    tree.print_tree()

    # Get the size of the tree
    size = tree.get_size()
    print("Tree size:", size)

    # Get the depth of the tree
    depth = tree.get_depth()
    print("Tree depth:", depth)

test_custom_tree()